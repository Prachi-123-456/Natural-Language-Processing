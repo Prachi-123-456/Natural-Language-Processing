{
 "cells": [
  {
   "cell_type": "code",
   "execution_count": 1,
   "metadata": {},
   "outputs": [],
   "source": [
    "import string \n",
    "from collections import Counter\n",
    "\n",
    "import matplotlib.pyplot as plt"
   ]
  },
  {
   "cell_type": "code",
   "execution_count": 4,
   "metadata": {},
   "outputs": [
    {
     "name": "stdout",
     "output_type": "stream",
     "text": [
      "Collecting GetOldTweets3\n",
      "  Using cached GetOldTweets3-0.0.11-py3-none-any.whl (13 kB)\n",
      "Collecting lxml>=3.5.0\n",
      "  Downloading lxml-4.5.2-cp36-cp36m-win_amd64.whl (3.5 MB)\n",
      "Collecting pyquery>=1.2.10\n",
      "  Using cached pyquery-1.4.1-py2.py3-none-any.whl (22 kB)\n",
      "Collecting cssselect>0.7.9\n",
      "  Using cached cssselect-1.1.0-py2.py3-none-any.whl (16 kB)\n",
      "Installing collected packages: lxml, cssselect, pyquery, GetOldTweets3\n",
      "Successfully installed GetOldTweets3-0.0.11 cssselect-1.1.0 lxml-4.5.2 pyquery-1.4.1\n",
      "Note: you may need to restart the kernel to use updated packages.\n"
     ]
    }
   ],
   "source": [
    "pip install GetOldTweets3"
   ]
  },
  {
   "cell_type": "markdown",
   "metadata": {},
   "source": [
    "# BEFORE MARCH EMOTIONS ABOUT COVID-19"
   ]
  },
  {
   "cell_type": "code",
   "execution_count": 2,
   "metadata": {},
   "outputs": [],
   "source": [
    "def get_tweets():\n",
    "    import GetOldTweets3 as got    #library used to scrape data from twitter without any other tool\n",
    "    tweetCriteria = got.manager.TweetCriteria().setQuerySearch('#COVID') \\\n",
    "    .setSince(\"2020-01-25\") \\\n",
    "    .setUntil(\"2020-02-25\") \\\n",
    "    .setMaxTweets(150)\n",
    "    \n",
    "    #creation of list that contains all tweets\n",
    "    tweets = got.manager.TweetManager.getTweets(tweetCriteria)\n",
    "    #creating list of chosen tweet data\n",
    "    text_tweets = [[tweet.text] for tweet in tweets]\n",
    "    return text_tweets"
   ]
  },
  {
   "cell_type": "code",
   "execution_count": 5,
   "metadata": {},
   "outputs": [],
   "source": [
    "#reading text file\n",
    "text = \"\"\n",
    "text_tweets = get_tweets()\n",
    "length = len(text_tweets)\n",
    "\n",
    "for i in range (0,length):\n",
    "    text = text_tweets[i][0] + \" \" + text\n",
    "    \n",
    "#converting to lowercase\n",
    "lower_case = text.lower()\n",
    "\n",
    "#Removing punctuations\n",
    "cleaned_text = lower_case.translate(str.maketrans('', '',string.punctuation))\n",
    "\n",
    "#splitting text into words\n",
    "tokenized_words = cleaned_text.split()"
   ]
  },
  {
   "cell_type": "code",
   "execution_count": 6,
   "metadata": {},
   "outputs": [
    {
     "data": {
      "text/plain": [
       "[['武漢ウィルスと戦う日本がんばれ！を作成。 加藤厚生労働大臣を応援しよう。 庶民感覚としての武漢ウィルスによる経済悪化対策と安全保障政策。 etc #武漢ウィルス #COVID-19 #新型肺炎 #加藤厚生労働大臣'],\n",
       " ['#COVID-19 に関連して、#PCR検査 をして貰えないと怒っている方々は結果を知って何がしたいの？陽性で隔離されたいの？特別な治療法もないのに。しかも、陰性が出ても罹患していない証明にはならないのに。'],\n",
       " ['Over 7,000 Thousands of Americans voluntarily self-quarantine after returning from China #coronavirus #covid-19 #china https://www.nbcnews.com/health/health-news/thousands-americans-voluntarily-self-quarantine-after-returning-china-n1138731 via @nbcnews'],\n",
       " ['世界で3番目に #コロナウィルス が流行しているとされている #イタリア で、町の閉鎖が起こっています。それによって人々はパニックを起こしている状態です。 閉鎖された街の住人の声をお届けします。 #COVID19italia #COVID19 #COVID https://love-marriage-101.com/%e3%82%b3%e3%83%ad%e3%83%8a%e3%82%a6%e3%82%a4%e3%83%ab%e3%82%b9%e3%81%ae%e6%84%9f%e6%9f%93%e6%8b%a1%e5%a4%a7%e3%81%ab%e3%82%88%e3%82%8a%e3%82%a4%e3%82%bf%e3%83%aa%e3%82%a2%e3%81%ae%e7%94%ba%e3%81%8c'],\n",
       " ['The local aviation industry is taking a massive hit due to the #coronavirus disease 2019 #COVID-19 scare, according to the Civil Aeronautics Board $CEB $PAL'],\n",
       " ['そしてもうすぐ東京マーケットオープン。1000ポイント下がるのかな #COVID-19'],\n",
       " ['When Will We Admit #Covid-19 Is Unstoppable And Global Depression Is Inevitable? | Zero Hedge '],\n",
       " ['La situation incontrôlable du #Coronavirus par le #PCC ou comment le développement de cette épidémie va déterminer la survie ou la fin du régime communiste chinois si on se réfère au dernier discours de #XiJinping. #COVID '],\n",
       " ['クルーズ船はもうどーでもいいから 各市町村ごとのウイルス検査の結果うぃ開示しなさい #COVID-19'],\n",
       " ['There are still NO confirmed cases of #COVID-19 in #Oregon and the risk of contracting it here remains low.'],\n",
       " ['#COVID19 #COVID #CoronaOutbreak #COVID19Korea'],\n",
       " ['“We recognize people are very worried about #COVID-19 and need to understand their real risks and feel confident that their state is working hard to protect their health. We hope sharing data will help do that,” Lillian Shirley, director of the Public Health Division.'],\n",
       " ['2月19日につぶやいたオジサンの推定です。 日本人２次感染者８５人が２人に感染させると12.5日後には +170人。さらに12.5日後に3次感染者170人が2人に感染させると+340人。したがって3月3日には 85+170+340=595人の感染者が出現する。 #COVID-19'],\n",
       " ['#If_you_refuse_to_be_quarantined_get_out_of_Vietnam #격리를거부하면베트남을떠나십시오 #Covid-19 #Vietnam #Korea'],\n",
       " ['@realDonaldTrump CORONAVIRUS UPDATE: Harvard Professor Says 40-70% Of People Worldwide Will Be Infected With Covid-19 #COVID19 #Coronavirius #COVID #COVID19italia #viral #virus #coranovirus #CoronavirusOutbreak #MondayReport'],\n",
       " ['CORONAVIRUS UPDATE: Harvard Professor Says 40-70% Of People Worldwide Will Be Infected With Covid-19 #COVID19 #Coronavirius #COVID #COVID19italia #viral #virus #coranovirus #CoronavirusOutbreak #MondayReport https://www.zerohedge.com/geopolitical/harvard-professor-says-40-70-people-worldwide-will-be-infected-covid-19'],\n",
       " [' #covid19italia #coronavirus #coranavirusitalia #covid19italy #COVID19Korea #covid19iran #covid19UK #Covid19usa #covid #COVID19 #CoronaVirusFacts #coronavirus #corona #CoronarvirusOutbreak #coronavirussingapore #Tenerife #Teneriffa #COVID_2019 #coronaspain #coronaespana #italy'],\n",
       " ['クラスター爆弾のクラスターだって #COVID-19'],\n",
       " ['Not the news we were hoping for. #WickedProblem @101010net #health #covid-19 A Vaccine Won’t Stop the New Coronavirus - The Atlantic '],\n",
       " [' #COVID | El #CoronaVirus llega a 833 contagiados y 8 fallecidos en #CoreaDelSur. 61 contagiados y 12 fallecidos en #Irán. 230 contagiados y 7 fallecidos en #Italia. Es el primer gran brote en #Europa. '],\n",
       " ['จีนฟันเจ้าหน้าที่รัฐ ฐานสกัดขนส่งหน้ากากอนามัย #COVID-19 #ข่าวต่างประเทศ #หน้ากากอนามัย #โคโรนาไวรัสสายพันธุ์ใหม่2019'],\n",
       " ['Harvard scientists aim to tackle the #COVID-19 #epidemic by collaborating with Chinese colleagues on new diagnostic tools, vaccine development and antiviral therapies. https://bit.ly/2T9dWt3 #coronavirus'],\n",
       " [\"On today's podcast: number of #Covid-19 cases doubles in South Korea, concerns raised about health of workers at Baowu Steel's Wuhan plant, and why offshore wind could solve China's energy woes. : https://bit.ly/32u77GP\"],\n",
       " [\"I can't imagine any US President dragging his/her feet on stopping the global #COVID-19 #pandemic &amp; deaths for financial reasons, can you? @realDonaldTrump\"],\n",
       " [\"Coronavirus in North Korea could be 'much more lethal' than in China, health experts warn.... #NorthKorea #China #Wuhan #Coronavirus #COVID #COVID19 #CoronavirusOutbreak #COVID2019\"],\n",
       " ['We will always give our clients for any update information for #COVID-19, #Coronavirus. So, do not worry, you can purchase the tickets from Travel Agency!! Summer travel airfare is on sale!!'],\n",
       " ['YIKES Read this frightening #thread v/ @talkradiotommy #COVID #CDC'],\n",
       " ['@WHO notes #COVID-19 pandemic potential as 5 more Mideast nations affected '],\n",
       " ['@lespolitiques #COVID-19 - Monday morning news. https://youtu.be/1C-NpadSNuA via @YouTube'],\n",
       " ['Harvard scientist predicts coronavirus will infect up to 70 percent of humanity https://news.yahoo.com/harvard-scientist-predicts-coronavirus-infect-195800282.html // hope the scientist is wrong #coronavirus #covid-19 scary scary scary'],\n",
       " ['What’s going to happen for Olympics in Tokyo? #COVID #Coronavius'],\n",
       " ['Truth. @WHO &amp; 45 failed us, they cares more @$than Lives. They care more about money, than human lives, Life, Justice. Just like putin &amp;mbs propping up oil prices, rn, too. But its ok, right? #BiPartisanVirus #coronavirus #CoronavirusOutbreak #COVID2019 #COVID19 #COVID '],\n",
       " [\"So. We have this takeover-tech, #ArtificialInteligence. It's BUSY tweeting propaganda/hiding inconvenient facts, helping the 1% live 4EVER (their brain/virtual body), creating realistic VR sex experiences- &amp; freaking us all out. Has #AI come up with a vaccine for #COVID-19 yet?\"],\n",
       " ['EU preparedness for the Corona virus. Live press conference #covid-19 '],\n",
       " [\"THIS Could BE Whats REALLY GOING ON: Are WE Being TRICKED? https://youtu.be/1oLllJ5sSZw via We don't want #5G Say #no to #FiveG , Before the #chinese #Covid #virus 5g Was Lit up in #Wuhan 2 weeks later #Killer #CoronaVirus #Covid19 , Elite are killing us #Terminator #SKYNET\"],\n",
       " ['ご批判もあるかもしれませんが電車の窓を開けさせていだきます。 #COVID-19 #新型コロナ'],\n",
       " ['Can Coronavirus be contained ? https://www.theatlantic.com/health/archive/2020/02/covid-vaccine/607000/ #covid-19 #coronavirus'],\n",
       " ['71000 CONFIRMED CASES IN THE USA!!! FOX NEWS LINK BELOW https://youtu.be/JSQ5gM30TYw #Coronavirius #TheWalkingDead #wuhan #WuhanCoronavirus #CoronaOutbreak #coronavirusargentina #wuhan400 #COVID19 #COVID #covid19italy #usa #CoronavirusUpdates #update #news #CoronavirusWho #foxnews'],\n",
       " ['Excelente artículo sobre el #Coronavirius solo en inglés. #Coronavirustruth https://www.theatlantic.com/health/archive/2020/02/covid-vaccine/607000/ #COVID19 #COVID #COVID_2019 #CoronaVirusFacts #CoronavirusUpdates #CoronarvirusOutbreak'],\n",
       " ['71000 CONFIRMED CASES IN THE USA!!! FOX NEWS LINK BELOW https://youtu.be/JSQ5gM30TYw #Coronavirius #TheWalkingDead #wuhan #WuhanCoronavirus #CoronaOutbreak #coronavirusargentina #wuhan400 #COVID19 #COVID #covid19italy #usa #CoronavirusUpdates #update #news #CoronavirusWho #foxnews'],\n",
       " [\"#Uyghurs are starving in forced quarantine in #Xinjiang/#EastTurkistan. #WuFlu could kill hundreds of thousands in #China's concentration camps. #COVID19 #COVID @uyghurproject is having a press conference on Feb 26 in DC.\"],\n",
       " ['Really interesting post by \\u2066@MarcBonten\\u2069 on whether everybody who is tested for #flu should be tested for #SARSCoV2 Marc says YES. #covid #coronavirus'],\n",
       " ['71000 CONFIRMED CASES IN THE USA!!! FOX NEWS LINK BELOW https://youtu.be/JSQ5gM30TYw #Coronavirius #TheWalkingDead #wuhan #WuhanCoronavirus #CoronaOutbreak #coronavirusargentina #wuhan400 #COVID19 #COVID #covid19italy #usa #CoronavirusUpdates #update #news #CoronavirusWho #foxnews'],\n",
       " ['あの #WHO がとうとう #パンデミック の恐れって言い出したし、完全にパンデミック認定 そしてこの期に及んで日本では全て国民まかせで政策なし予算なし 個人的に引きこもっても、大多数がウロチョロして感染してたら一生外に出られない #新型肺炎 #COVID-19 #コロナウイルス #世界的流行'],\n",
       " ['Sigue estas #RecomendacionesSSH para evitar contraer enfermedades de las vías respiratorias, incluido el nuevo #Covid-19. Recuerda que es importante prevenir. #CuidaTuSalud y la de tu familia. @omarfayad @SSH_Escamilla @IMSS_HGO @ISSSTE_HGO'],\n",
       " [' La @opsoms pone en duda, que Iran ,tenga los medios para combatir el #COVID y temen un gran brote como el de China . @lemondefr @elmundoes @dw_espanol @bbcmundo @abc_es @ecd_'],\n",
       " ['#COVID-19 Тэр вирусны тархалтыыг засаг төрөөс авч буй арга хэмжээнээс гадна иргэн хувь хүний үүрэг ухамсар тогтоож барихад чухал үүрэгтэй бололтой. Бусад нь үүргээ биелүүлээд ганц 1 хувиа хичээгч нь тархалтыг улам лавшруулаад байгаа юм билээ !!!'],\n",
       " ['Coronavirus Outbreak Italy: 7 dead, 229 infected, over 50,000 quarantined as Italians panic buying food and masks. #Italy #Coronavirus #China #COVID19 #COVID #COVID2019 #CoronavirusItaly #CoronavirusOutbreak'],\n",
       " ['Una bebé de apenas 17 días de nacida se recuperó de forma exitosa del #COVID-19 sin necesidad de antibióticos en #China https://www.vanguardiaveracruz.mx/bebe-se-recupera-de-coronavirus-sin-medicamentos/'],\n",
       " ['My Top 5 (COVID-19) Points https://covid19data.com/2020/02/24/my-top-5-covid-19-points/ #covid19 #coronavirus #covid-19'],\n",
       " ['Unbelievable! Excrutionating! Unspeakable! #COVID19 #COVID #Coronavirus'],\n",
       " ['コロナ懸念、東京マラソン「中止を」51％ #COVID-19 #東京都 #マラソン'],\n",
       " ['We’ve now pretty well established that #SARS-CoV2 is transmissible while asymptomatic, but how long after acquiring #COVID-19 is a person infectious? 4-6 weeks for critical patients? @MackayIM @DrEricDing'],\n",
       " ['#COVID-19 FIRST CASE (AFGHANISTAN, BAHRAIN, KUWAIT) '],\n",
       " ['La #OMS llama a enfocarse en la contención del #COVID-19 http://bit.ly/2wBkXLA'],\n",
       " ['Chinese woman travels 675 km without any coronavirus symptoms infects five relatives.... #Coronavirus #China #Wuhan #COVID #WuhanCoronavirus #CoronavirusOutbreak #COVID19 #COVID2019 #CoronavirusChina'],\n",
       " ['Anyways, on another note, #Covid-19 has affected the travel biz. Cancellations on cruises, refunds. Some hotels (not locally), impacted. Ripple is real.'],\n",
       " ['United Airlines Inc on Monday withdrew its full-year 2020 forecast citing the impact of the #coronavirus outbreak and said it was seeing an about 100% decline in near-term demand to #China. #COVID '],\n",
       " ['Nuevo #COVID-19 en el mundo 24 de Febrero 2020 @ClinicaMexico @GobiernoMX @JohnHopkins'],\n",
       " [\"#QuartaRepubblica #Salvini #COVID Finita l'emergenza Quelli che rimarranno Anche quelli che oggi si nascondono Si raduneranno in parlamento E Non ci faranno più votare come oggi Speriamo in un fruttuoso contagio del virus dell'intelligenza Della praticità Dell'onesta\"],\n",
       " [\"An official leading South Korea's battle against #COVID-19 says he's a member of a doomsday cult where a virus 'super-spreader' event occurred https://www.businessinsider.com/south-korean-official-tests-positive-coronavirus-doomsday-church-cult-2020-2?utmSource=twitter&amp;utmContent=referral&amp;utmTerm=topbar&amp;referrer=twitter via @businessinsider\"],\n",
       " ['WHO: #COVID-19 is not yet a pandemic... but prepare for one: '],\n",
       " ['Why Some #COVID-19 Cases Are Worse than Others http://bit.ly/3c4tAPc'],\n",
       " ['Esto es lo que ha pasado a consecuencia de la emergencia sanitaria de los últimos meses. #Covid-19 #LoQueMueveAlMercado'],\n",
       " ['#Corona #coronavirus #COVID #covid19 #WuhanCoronovirus #racooncity #umbrella'],\n",
       " ['measures taken in #france in preparation of a new outbreak of #nCoV2019 #nCoV2020 #coronavirus #COVID #COVID19italia source'],\n",
       " ['Stocks slide as virus spreads. - https://dailytradersreport.com.au/stocks-slide-as-virus-spreads/ #coronavirus #COVID-19 #China $VIX $AAPL $AMZN $TSLA $MSFT #GOOGL #REGN #GOLD #OIL #NEM #GILD $AMD $NVDA #CCL'],\n",
       " ['#Corona #coronavirus #COVID #covid19 #worldhealthorg #animal'],\n",
       " ['Of course this is satirical and meant to vent frustration with a (clearly) bought @WHO that insists on furthering the CCP narrative...but as this crisis continues to spiral its sounding less and less like a joke #covid #covid19 #coronavirus #pandemic'],\n",
       " ['#COVID-19 #COVID2019 #WUHAN Immune Kit #ProtectYourself https://amzn.to/38Cxixp https://amzn.to/2vEpsVi '],\n",
       " ['Well... What are you waiting for? #Trump #TrumpInIndia #coronavirus #Covid_19 #COVID19 #Covid #italy #ItalyCoronavirus #Wuhan #Milan #italia #iran #china #Shanghai #coronavirusitalia #coronavirusitaly #koronavirus #italien'],\n",
       " ['This story shows why the US will have more trouble controlling #COVID19 than some other countries. People will be reluctant to be tested if they face significant costs. People will go to work when ill if they have no sick leave. #COVID_2019 #covid #coronavirus'],\n",
       " ['@shenlulushen and many other are storing the real stories and data regarding #Covid_19 #coronavirus \"Protecting #COVID19 truth and the individual stories\" https://www.thenation.com/article/world/china-journalism-coronavirus/ https://docs.google.com/document/d/1RqYvfEbLhcyH8rhw0xLpjc2w0JqPBQINzj3ORE-Jka0/edit?usp=drivesdk https://2020ncov-individual-archives.netlify.com/ #TruthMatters #COVID19italia #truth #covid'],\n",
       " [\"A doctor's comments from Tehran. He observes that with the number of cases and deaths he's seen, the official totals should be higher. His hospital is having to use extra wards for isolation; almost the entire facility is now a quarantine. #COVID19 #COVD19 #COVID\"],\n",
       " ['3. China will coordinate efforts to fight the #COVID-19 outbreak on the one hand and ensure economic and social development on the other. The fundamentals sustaining China’s sound economic growth in the long run remain unchanged. '],\n",
       " ['journalists from the world are now trying to enter the most infected town of #europe #italy #Codogno thinking they will bring a good story but hindering the work of the emergency services #nCoV2019 #nCoV2020 #coronavirus #COVID #COVID19italia'],\n",
       " ['Truth. The sociopath 45 failed us, cares more @$than Lives. #BiPartisanVirus #coronavirus #CoronavirusOutbreak #COVID2019 #COVID19 #COVID '],\n",
       " ['Is Umbrella Corporation behind #COVID-19 global spreading? '],\n",
       " ['this is how a pharmacy works in the most infected #nCoV2019 #nCoV2020 #coronavirus #COVID #COVID19italia town of #europe #italy #codogno'],\n",
       " ['On Feb 23, Chinese President Xi jinping chaired a video and telephone conference with over 170,000 officials at various levels of the governments, themed on coordinating #COVID-19#epidemic prevention and social and economic development. https://youtu.be/F5ezZ9zlQNg 来自 @YouTube'],\n",
       " ['Truth. @who &amp; 45 failed us, they care more &amp; $than Lives. #BiPartisanVirus #coronavirus #CoronavirusOutbreak #COVID2019 #COVID19 #COVID '],\n",
       " ['#codogno in #italy is the first #europe town where the number of infections #nCoV2019 #nCoV2020 #coronavirus #COVID #COVID19italia has passed 100 which is a very dangerous number because elsewhere it was the indication that it would fast be out of control'],\n",
       " ['#Video Sin tomar en cuenta el el crucero de Japón, Corea del Sur es el país con más casos de #COVID-19 después de China. '],\n",
       " ['#COVID-19 virus is a human tragedy, one which is deeply impacting thousands of families. While CNY-linked #inventory buildups have masked the #economic impact up to this point, continued work stoppages WILL HAVE A NEGATIVE EFFECT. https://4a752dca-07f9-4111-b073-0bdd04017c4b.filesusr.com/ugd/e31b35_9ac5979099da4a79a47682223b6ea865.pdf'],\n",
       " ['German study lists 20 countries that are most likely to import coronavirus around the world... || #Germany #Coronavirus #COVID #Wuhan #WuhanCoronavirus #CoronavirusOutbreak #China #CoronavirusChina #COVID19'],\n",
       " ['El mundo debe prepararse para una pandemia de coronavirus, advierte la Organización Mundial de la Salud https://codigooculto.com/2020/02/mundo-debe-prepararse-para-pandemia-coronavirus-advierte-organizacion-mundial-salud/ #arenavirus #coronavirus #covid-19 #enfermedad #epidemia #pandemia #virus vía @codigoocultocom'],\n",
       " ['#Corona #coronavirus #COVID #covid19 #chinesefood'],\n",
       " ['SPAIN REPORTS 3RD CASE OF COVID-19 TRAVELER FROM ITALY - EL PAIS NEWS #CoronavirusOutbreak #covid #COVID19italia #coronavirus #covid19italy'],\n",
       " ['#Corona #coronavirus #COVID #covid19'],\n",
       " ['#Corona #coronavirus #COVID #covid19 #cough #Chinese'],\n",
       " ['#Corona #coronavirus #COVID #covid19 #Masks'],\n",
       " ['#Coronavirus #COVID: Iran news agency reports 50 deaths. A few hours ago there were 61 cases reported. Total transparency, according to the spokesmen. https://youtu.be/H1A4QsER1TI via @YouTube'],\n",
       " ['#Corona #coronavirus #COVID #covid19'],\n",
       " [\"La raison de l’irruption rapide et meurtrière du #coronavirus #Covid_19 #COVID en #Iran est que la pandémie ne date pas d'aujourd'hui, les autorités l'ont dissimulé pour organiser leurs cérémonies du 11 février et les élections du 21. Le Guide suprême avait pris ses précautions !\"],\n",
       " ['Australian biosecurity expert urges countries to be equally vigilant against #COVID-19 - Xinhua | http://English.news.cnhttp://www.xinhuanet.com/english/2020-02/24/c_138813264.htm#0-twi-1-16008-7250227817ecdff034dc9540e6c76667'],\n",
       " ['some train lines in the north of #italy #milano is suspended because of the #nCoV2019 #nCoV2020 #coronavirus #COVID #COVID19italia'],\n",
       " ['Conférence de presse conjointe avec le professeur Muyembe @MTamfum sur le #COVID-19. La lutte contre le COVID-19, la bataille contre #Ebola, la #Chine et la #RDC, ensemble, on va convaincre toutes les épidémies. '],\n",
       " ['Un médico italiano en Tenerife, tercer positivo por coronavirus en España #coronavirus #covid https://www.webconsultas.com/noticias/salud-al-dia/neumonia/un-italiano-en-tenerife-tercer-positivo-por-coronavirus-en-espana vía @webconsultas'],\n",
       " ['Nuevo caso de #coronavirus en #Canarias | @SanidadGobCan #COVID-19 #Tenerife #CanaryIslands #IslasCanarias'],\n",
       " ['#italy we should keep our cool - of all the towns and cities there is only 1 (ONE) that has more than 100 cases - a turning point at which the infections can explose - and some have only a few but how many are still unknown #nCoV2019 #nCoV2020 #coronavirus #COVID #COVID19italia'],\n",
       " ['#Covid-19 Contagion Sparks Carnage As Stocks Wipe Out All 2020 Gains '],\n",
       " [\"On the entertainment front .... Tom Cruise's Mission: Impossible 7 halts filming over coronavirus https://mol.im/a/8038497 via @MailOnline #COVID-19 #CoronavirusItaly #coronavirus #COVIDItaly\"],\n",
       " [' You’re Likely to Get the #Coronavirus—Most cases are not life-threatening, which is also what makes the virus a historic challenge to contain. Atlantic #longread ↺ #dd_rt #ddoom_coronaMed #ddoom_corona #ddoom_atlantic #Covid19 #CoVID '],\n",
       " ['The Centers for Disease Control and Prevention (CDC) @CDCgov is aggressively responding to the global outbreak of #COVID-19 and preparing for potential spread in the United States. Read the latest updates: #CDC #coronavirus #sciencematters #facts'],\n",
       " ['More medical products and drugs expected to be imported from the US to China this year although #COVID-19 has impacted China’s exports in the short term: analysts '],\n",
       " ['Presidente de #China, Xi Jinping, destaca que el brote del nuevo coronavirus #Covid-19 originado en la provincia #Hubei es la mayor emergencia sanitaria que afronta el país desde la fundación de la República Popular China.'],\n",
       " ['People are spending a lot of time asking \"is #SARSCoV2 #COVID is a pandemic\"? Here are better questions: 1. \"Are there adequate protocols for hospitals?\" 2. \"How do we protect our healthcare workers?\" 3. \"Has the govt allocated enough funding to #coronavirus response efforts?\"'],\n",
       " ['El mundo debe prepararse para una pandemia de coronavirus, advierte la Organización Mundial de la Salud https://codigooculto.com/2020/02/mundo-debe-prepararse-para-pandemia-coronavirus-advierte-organizacion-mundial-salud/ #arenavirus #coronavirus #covid-19 #enfermedad #epidemia #pandemia #virus vía @codigoocultocom'],\n",
       " ['Carnival Brazil 2020 celebrations proceed without fear of #COVID-19 '],\n",
       " ['Mira @BerrybMary. Cerrado ya por hoy el mercado en NY, se presentaron los daños colaterales -derivados del avance- del #coronavirus #COVID-19 en el mundo. '],\n",
       " ['Novel #coronavirus test for Miami man leads to a $3,275 bill - $1400 of which he is responsible for paying. #covid '],\n",
       " ['#italy tourist on #tenerife has tested positive for #nCoV2019 #nCoV2020 #coronavirus #COVID #COVID19italia - next we will be testing all people coming from italy'],\n",
       " ['I just want to give a big Thank You to the @CDCgov for responding to keep US citizens safe from a #COVID-19 outbreak. Quarantining hundreds of people as they arrive in from #China. So far all cases have been those who had direct contact in China. #USASafe'],\n",
       " ['La Secretaria de Salud de Nuevo León recomienda aprender la manera correcta de estornudar, lo cual es importante para evitar la transmisión de enfermedades respiratorias como las causadas por el #Coronavirus #COVID-19. '],\n",
       " [\"#Coronavirus #COVID: It's good to know that you are all in safe hands in the #USA. Meanwhile, in the Real World........\"],\n",
       " ['Coronavirus Outbreak: World Health Organization warns of global pandemic. #CoronavirusOutbreak #China #COVID19 #COVID #COVID2019 #Coronavirus #CoronavirusWHO'],\n",
       " ['.@antonioguterres alerta que países devem fazer tudo para se preparar para enfrentar o #Covid-19. Chefe #ONU afirmou que novo coronavírus pode ser contido e vencido, mas se nada for feito, a situação pode afetar a saúde e a economia mundiais.'],\n",
       " ['New @thehill article from @jeffschlegel &amp; @georgetown_ghss\\'s Ellen Carlin on \"What coronavirus teaches us for preventing the next big bio threat\" Read here: https://bit.ly/3bXTiVo #publichealth #COVID-19 #EMGTwitter'],\n",
       " [\"shouldn't #ebay step in and limit the acceptable price of #facemasks because some are eally profiteering from the absolute scarity while other people really need it to protect themselves against #nCoV2019 #nCoV2020 #coronavirus #COVID #COVID19italia @eBayNewsroom\"],\n",
       " ['Johns Hopkins\\' \"Global Health NOW\" daily email is always interesting. Be informed about #COVID-19 #NovelCoronavirus And there\\'s plenty of other health news. Subscribe here:'],\n",
       " ['#COVID-19 ENTIRE '],\n",
       " ['Financial News: Italy becomes the epicenter of the COVID-19 outbreak in Europe https://financialnews.com/?p=2653 #COVID-19 #Lombardy #Quarantine #sars'],\n",
       " ['Estar informados sobre el nuevo #Covid-19 es importante para realizar acciones de prevención. Recuerda acudir a tu unidad de salud ante cualquier enfermedad de las vías respiratorias. '],\n",
       " ['今や中国が韓国人の入国統制 ... 5～7日、強制隔離するところも #韓国の反応 #韓国 #コロナ19 #COVID-19 #新型肺炎 #韓国人 #隔離'],\n",
       " ['this is #venice #italy which is NOT under curfew but is now being abandoned by its population afraid of #nCoV2019 #nCoV2020 #coronavirus #COVID #COVID19italia'],\n",
       " ['Japan Testing Flu Medication Treatment Against ٫#COVID-19 Disease '],\n",
       " ['¿Sabes estornudar correctamente? ¡Evita contagiar a los demás con los virus que expulsas al estornudar o toser! #Coronavirus #COVID-19 #Influenza'],\n",
       " ['the #china way of infecting people with #nCoV2019 #nCoV2020 #coronavirus #COVID in open quarantine centers for healthy and sick people source https://edition.cnn.com/2020/02/22/asia/china-coronavirus-roundup-intl-hnk/index.html'],\n",
       " [' Williams, so, is #COVID19 = #covid = #SARSCOV2 = #WuhanCoronavirus? . . . . + #wuhan, #coronavirus'],\n",
       " ['新型コロナウイルス アメリカ日本渡航レベル2に引き上げ #新型コロナウイルス #新型肺炎 #マスク #売り切れ #ハワイの状況 #入国規制 #coronavirus #フライト #行動ルート #新型コロナ感染 #COVID-19 https://hawaii-ne.com/usa-for-coronavirus/'],\n",
       " ['Coronavirus Outbreak: 9 month pregnant nurse working, shaved nurse heads sparks outrage.. #Coronavirus #China #COVID #CoronavirusOutbreak #COVID19 #COVID2019'],\n",
       " ['Sube a 12 la cantidad fallecidos por el #Covid-19 en #Irán. Mientras la cantidad personas infectadas con el nuevo coronavirus llegado a 47.'],\n",
       " ['Viceministro de Salud de #Irán, Iraj Harirchi, tacha d \"falsas e incorrectas\" lo dicho por un diputado iraní, q afirma q solo en la ciudad de Qom ya han muerto 50 personas por el #Covid-19. \"Si la mitad o la cuarta parte de este número es correcta, renunciaré a mi cargo\", asevera '],\n",
       " ['real news from #china #wuhan under the #nCoV2019 #nCoV2020 #coronavirus #COVID curfew without censorship https://weileizeng.github.io/OpenSourceWuhan/ and https://github.com/2019ncovmemory/nCovMemory and https://github.com/jiayiliujiayi/2020nCov_individual_archives and https://github.com/Academic-nCoV/2019-nCoV/wiki and'],\n",
       " ['Conoce sobre los mitos y realidades del #COVID-19, te comparto la siguiente información. '],\n",
       " ['@112_ITALIA @Emergenza24 #amuchina #COVID19 #CoronaVirusUpdate #coronarvirusitalia #CoronaVirusitaly #coronavirusitalIa #coronavirus #Codogno #coronaviruslombardia #CoronaVirusitaly #Codogno #Covid_19 #COVID19italia #COVID #COVIDー19 @sosemergenza #quarantena #Milano #CODVID19'],\n",
       " ['Comunque ho parlato con un mio amico che lavora con la Cina, mi ha suggerito di non prendere il #covid-19 perché a settembre esce già il 20.'],\n",
       " ['#China has confirmed that #coronavirus incubation period is 27 days. La #Cina ha confermato che il periodo di incubazione di #coronavirus è di 27 giorni. #COVID19 #COVIDー19 #COVID19italia #COVID #CoVid2019'],\n",
       " [' Iran’s government is lying its way to a #coronavirus catastrophe Wash Post https://www.washingtonpost.com/opinions/2020/02/24/irans-government-is-lying-its-way-coronavirus-catastrophe/ #ddoom_corona #ddoom_iran #ddoom_washpost #Covid19 #CoVID #Covid19iran'],\n",
       " ['John Campbell VIDEO: Does #COVID-19 require temporary restriction of international travel? '],\n",
       " [\"On today's Money Talk; Global stock markets have plunged on fears that the #Covid-19 virus is spreading outside of Mainland #China. Investors fled into have assets such as #gold and US treasury bonds. 1/16\"],\n",
       " ['TOLGA ERDOĞAN yazdı; “Küresel salgına karşı ürettiği tedaviye rağmen yalnız bırakılan Tayvan” https://haberajandanet.com/Article/kuresel-salgina-karsi-urettigi-tedaviye-ragmen-yalniz-birakilan-tayvan/29XiBdiINiNxJVN4iD5m #Toplum #Covid-19 #SARS #DünyaSağlıkÖrgütü'],\n",
       " [\"On today's Money Talk; Global stock markets have plunged on fears that the #Covid-19 virus is spreading outside of Mainland #China. Investors fled into have assets such as #gold and US treasury bonds. 1/16\"],\n",
       " ['#china #ccp is trying to delete this #nCoV2019 #nCoV2020 #coronavirus #COVID virus outbreak content from the online world so it will look as if it never happened - activists from all over the world are trying to archive all that material '],\n",
       " ['Autoridades de #China indican que se esforzará para que los negocios comerciales reanuden las operaciones y la producción de manera ordenada con la premisa de garantizar la seguridad, en momentos en que el país sigue luchando contra el #Covid-19. '],\n",
       " ['¿Conoces los mitos y realidades sobre el #COVID-19? te compartimos la siguiente información. '],\n",
       " ['中共禁止 #3M 公司的任何产品离开中国！激怒了白宫！ #川普 下令： 撤回4家美国制药商，包括 #3M 公司，将在美国生产口罩及医药制品 #武汉 #湖北 #coronavirus #COVID19 #COVID '],\n",
       " [\"whatever #who calls #nCoV2019 #nCoV2020 #coronavirus #COVID #COVID19italia it doesn't matter they've said we should prepare for pandemic as it can become one any time... that they are so afraid of the economic financial and political impact of declaring it is another matter\"],\n",
       " ['the biggest problem for the prevention of #nCoV2019 #nCoV2020 #coronavirus #COVID in #usa is that hospitals are charging so much even for a simple test that many people and most poor people will just not be able to afford it and may walk around for weeks infecting others'],\n",
       " ['another calculation of the deathrate or mortality of #nCoV2019 #nCoV2020 #coronavirus #COVID #COVID19italia in #china - now 80plus is at 14%']]"
      ]
     },
     "execution_count": 6,
     "metadata": {},
     "output_type": "execute_result"
    }
   ],
   "source": [
    "#print texts\n",
    "text_tweets"
   ]
  },
  {
   "cell_type": "code",
   "execution_count": 7,
   "metadata": {},
   "outputs": [
    {
     "name": "stdout",
     "output_type": "stream",
     "text": [
      "['i', 'me', 'my', 'myself', 'we', 'our', 'ours', 'ourselves', 'you', \"you're\", \"you've\", \"you'll\", \"you'd\", 'your', 'yours', 'yourself', 'yourselves', 'he', 'him', 'his', 'himself', 'she', \"she's\", 'her', 'hers', 'herself', 'it', \"it's\", 'its', 'itself', 'they', 'them', 'their', 'theirs', 'themselves', 'what', 'which', 'who', 'whom', 'this', 'that', \"that'll\", 'these', 'those', 'am', 'is', 'are', 'was', 'were', 'be', 'been', 'being', 'have', 'has', 'had', 'having', 'do', 'does', 'did', 'doing', 'a', 'an', 'the', 'and', 'but', 'if', 'or', 'because', 'as', 'until', 'while', 'of', 'at', 'by', 'for', 'with', 'about', 'against', 'between', 'into', 'through', 'during', 'before', 'after', 'above', 'below', 'to', 'from', 'up', 'down', 'in', 'out', 'on', 'off', 'over', 'under', 'again', 'further', 'then', 'once', 'here', 'there', 'when', 'where', 'why', 'how', 'all', 'any', 'both', 'each', 'few', 'more', 'most', 'other', 'some', 'such', 'no', 'nor', 'not', 'only', 'own', 'same', 'so', 'than', 'too', 'very', 's', 't', 'can', 'will', 'just', 'don', \"don't\", 'should', \"should've\", 'now', 'd', 'll', 'm', 'o', 're', 've', 'y', 'ain', 'aren', \"aren't\", 'couldn', \"couldn't\", 'didn', \"didn't\", 'doesn', \"doesn't\", 'hadn', \"hadn't\", 'hasn', \"hasn't\", 'haven', \"haven't\", 'isn', \"isn't\", 'ma', 'mightn', \"mightn't\", 'mustn', \"mustn't\", 'needn', \"needn't\", 'shan', \"shan't\", 'shouldn', \"shouldn't\", 'wasn', \"wasn't\", 'weren', \"weren't\", 'won', \"won't\", 'wouldn', \"wouldn't\"]\n"
     ]
    }
   ],
   "source": [
    "from nltk.corpus import stopwords\n",
    "stop_words = stopwords.words('english')\n",
    "print(stop_words)"
   ]
  },
  {
   "cell_type": "code",
   "execution_count": 8,
   "metadata": {},
   "outputs": [],
   "source": [
    "final_words = [word for word in tokenized_words if word not#Get emotions text\n",
    "emotion_list = []\n",
    "with open('emotions.txt', 'r') as file:\n",
    "    for line in file:\n",
    "        clear_line = line.replace('\\n','').replace(',', '').replace(\"'\", '').strip()\n",
    "        word, emotion = clear_line.split(':')\n",
    "        if word in final_words:\n",
    "            emotion_list.append(emotion)\n",
    "            \n",
    "w = Counter(emotion_list)\n",
    "print(w) in stop_words]"
   ]
  },
  {
   "cell_type": "code",
   "execution_count": 9,
   "metadata": {},
   "outputs": [
    {
     "name": "stdout",
     "output_type": "stream",
     "text": [
      "Counter({' adequate': 3, ' entitled': 2, ' sad': 2, ' fearful': 2, ' attracted': 1, ' powerless': 1, ' esteemed': 1, ' hated': 1})\n"
     ]
    }
   ],
   "source": [
    "#Get emotions text\n",
    "emotion_list = []\n",
    "with open('emotions.txt', 'r') as file:\n",
    "    for line in file:\n",
    "        clear_line = line.replace('\\n','').replace(',', '').replace(\"'\", '').strip()\n",
    "        word, emotion = clear_line.split(':')\n",
    "        if word in final_words:\n",
    "            emotion_list.append(emotion)\n",
    "            \n",
    "w = Counter(emotion_list)\n",
    "print(w)"
   ]
  },
  {
   "cell_type": "code",
   "execution_count": 10,
   "metadata": {},
   "outputs": [
    {
     "data": {
      "image/png": "[encoded data removed]",
      "text/plain": [
       "<Figure size 432x288 with 1 Axes>"
      ]
     },
     "metadata": {
      "needs_background": "light"
     },
     "output_type": "display_data"
    }
   ],
   "source": [
    "fig, ax1 = plt.subplots()\n",
    "ax1.bar(w.keys(), w.values())\n",
    "fig.autofmt_xdate()\n",
    "plt.savefig('graph.png')\n",
    "plt.show()"
   ]
  },
  {
   "cell_type": "markdown",
   "metadata": {},
   "source": [
    "# AFTER MARCH REACTION ON COVID-19"
   ]
  },
  {
   "cell_type": "code",
   "execution_count": 11,
   "metadata": {},
   "outputs": [],
   "source": [
    "def get_tweets():\n",
    "    import GetOldTweets3 as got    #library used to scrape data from twitter without any other tool\n",
    "    tweetCriteria = got.manager.TweetCriteria().setQuerySearch('#COVID') \\\n",
    "    .setSince(\"2020-04-01\") \\\n",
    "    .setUntil(\"2020-05-01\") \\\n",
    "    .setMaxTweets(150)\n",
    "    \n",
    "    #creation of list that contains all tweets\n",
    "    tweets = got.manager.TweetManager.getTweets(tweetCriteria)\n",
    "    #creating list of chosen tweet data\n",
    "    text_tweets = [[tweet.text] for tweet in tweets]\n",
    "    return text_tweets"
   ]
  },
  {
   "cell_type": "code",
   "execution_count": 12,
   "metadata": {},
   "outputs": [],
   "source": [
    "#reading text file\n",
    "text = \"\"\n",
    "text_tweets = get_tweets()\n",
    "length = len(text_tweets)\n",
    "\n",
    "for i in range (0,length):\n",
    "    text = text_tweets[i][0] + \" \" + text\n",
    "    \n",
    "#converting to lowercase\n",
    "lower_case = text.lower()\n",
    "\n",
    "#Removing punctuations\n",
    "cleaned_text = lower_case.translate(str.maketrans('', '',string.punctuation))\n",
    "\n",
    "#splitting text into words\n",
    "tokenized_words = cleaned_text.split()"
   ]
  },
  {
   "cell_type": "code",
   "execution_count": 13,
   "metadata": {},
   "outputs": [
    {
     "data": {
      "text/plain": [
       "[['This Week on the Member Space: Call for Proposals, NSF Program Manager Chat on #COVID-19, Webinar Announcements, #ASSW2021 Session Proposal Extension and more! https://www.iarpccollaborations.org/news/index.html'],\n",
       " ['Wait did @parksandrecnbc also predict COVID?? (Yes I know this is 2017 but still) #coronavirus #covid #ParksAndRec #ParksAndRecreation'],\n",
       " [\"My take is that the reopening plan outlined today follows best practices and makes sense. This plan is the positive outcome of Albertans buying in to the public health measures. Let's keep doing that, and we'll be rewarded. #ableg #covid \"],\n",
       " ['AR aprova descida do IVA para máscaras e gel mas rejeita estender a luvas e viseiras https://bit.ly/2yYdJCC #Covid-19 #impostos'],\n",
       " [\"#ANGOISSE face au #COVID? #gouverner c'est #prévoir pour L bien du #peuple là,fiasco #SARSCoV2 alors victime #Covid19,#soignant ou dégouté de l'#INCOMPÉTENCE d'#État!=ni #masque,ni #test=déposez plainte=#ilsdoiventpayer Ici=&gt; https://plaintecovid.fr #covid19 #coronavirus #plainte\"],\n",
       " ['#Sensible perspective - Mike Clarke: How can we avoid research waste during the #covid-19 pandemic and plan for the future? - '],\n",
       " ['La hermana de mi abuelito ha superado el peligro del #Covid Una Guerrera sin duda alguna nuestra viejita!! Ojo, ella nunca tuvo fiebre, ni tos, ni otros síntomas del #Covid. El virus sólo afectó su presión, la tuvo alta y perdió el habla. Hoy ya recuperada y de alta. '],\n",
       " ['Democracy in action? Study shows more than 90% of #American voters are in favour of stay at home and other health and safety precautions. Trump ignores what people demand, push to #reopen. #Coronavirus #covid #IslamicRepublicOfBBC'],\n",
       " ['Los laboratorios agremiados no detienen su producción en tiempos de cuarentena, siguien produciendo medicamentos para los ciudadanos. ¡Reactivar la economía es compromiso de todos! #QuédateEnCasa #Covid-19 #YoSoloComproProductosNacionales'],\n",
       " ['If you’re protesting #COVID #stayathome orders...please get a clue. This is not about you, you selfish pricks.'],\n",
       " ['Las proyecciones del PIB en méxico cada vez se ponen peor. Eso ya no es culpa del #covid - el país ya venía de sus peores 4 trimestres en años.. es reflejo de que no se están tomando acciones correctas y sobre todo, no hay un cambio de estrategia fundamental. Business as usual. '],\n",
       " ['I guess NM is open for business despite the spike in #COVID cases today.... '],\n",
       " ['Coronavirus: hoy se sumaron 5 confirmaciones y llega a 79 en #Mendoza #covid-19 https://cuyonoticias.com/117931/coronavirus-hoy-se-sumaron-5-confirmaciones-y-llega-a-79-en-mendoza/'],\n",
       " ['Segue palavras de #ânimo; para que saibam que ninguém está só. *CONTINUAÇÃO* ... https://instagram.com/ceodolar?igshid=1d34rv0f7ed5z Creia em #Deus!!! #CEOdoLar #medo #família #live #pandemia #live #covid19 #coronavirus #covid #convivencia #quarentena #deusecontigo'],\n",
       " ['It’s time for the world to join together in a global effort to beat #COVID-19. @sebastiankurz will Austria step up alongside other global leaders to support @CEPIvaccines and @gavi in their work to defeat deadly global pandemics? #VaccinesWork #DefeatDiseaseTogether'],\n",
       " ['In Memorial to the #American Doctors who have died over the last month due to #Covid-19. #healthcare #covid19 #ppeshortage #socialdistancing'],\n",
       " ['#Actualización #Covid-19 #Coronavirus #Zacatecas'],\n",
       " [\"Cuidemos la vida y a nuestros seres amados, respeta las señales de 'Distancia segura' para evitar la propagación del #COVID-19. Continuaremos implementando esta medida en toda la ciudad. De ti depende que podamos superar esta pandemia. #DisciplinaParaVolver\"],\n",
       " [\"@AirCanada: Let's start generating huge amounts of GHGs for Christmas! #covid19 #covid&lt;&gt;#climate @yvrairport #yvr #cdnpoli\"],\n",
       " ['#Actualización #Covid-19 #Coronavirus #Zacatecas'],\n",
       " ['El coronavirus en América Latina | EL PAÍS Semanal #covid #AmericaLatina #venezuela #argentina #mexico'],\n",
       " ['#resign #traitor #Canada #U #predicted #ten #years #ago #NFB #Doc #pandemic #tactics #quarantine #electronic #bracelets #police #enforcement #U #government #info #COVID #November #failed #prevent #Canadians #deaths #CCP #sympathizer #prosecute #despicable #DrTam'],\n",
       " ['#Masks are still the dawg, #foxnews #fakenews #taskforce etal: forced buy?! #Covid “contagion” was a lie all along! The ONLY thing that has come across is how “heretical” we all are for not fearing the power of the apostacy &amp; disease- or doing denial of widespread #euthanasia.'],\n",
       " ['-A ver ¿Qué se conmemora el 1 de mayo? -El Día de los trabajadores. -Y por que pusiste PIT CNT ? https://ift.tt/3d1pzdZ #Covid19 #Covid-19 #QuedateEnTuCasa #NosCuidamosEntreTodos #AhoraMontevideo #UruguayDecide #Elecciones2020 #TuVoto #RaffoIntendente #MartinezIntendente #Acti…'],\n",
       " [' LA NUEVA NORMALIDAD,,,en casa!! https://ift.tt/3fbyk7k #Covid19 #Covid-19 #QuedateEnTuCasa #NosCuidamosEntreTodos #AhoraMontevideo #UruguayDecide #Elecciones2020 #TuVoto #RaffoIntendente #MartinezIntendente #ActitudMontevideo #EleccionesXLaTele'],\n",
       " ['The Taliban’s resumption of violence has endangered peace efforts in #Afghanistan, and even as news reports have quoted officials as saying that #COVID-19 deaths among prisoners could also undermine the peace process. '],\n",
       " ['#MotherNature helping against #covid but making lockdown less bearable '],\n",
       " ['Use #telemedicine #resources! #COVID-19 &amp; #IBD #webinar '],\n",
       " ['Is #COVID-19 a day of reckoning for sports? I believe the demand for watching games in person (i.e. buying tickets) will wane. Ticket revenues will drop. If owners try to cut salaries, labor strife will return. College sports as we know them may end. #NCAA #NFL #NHL #NBA #MLB'],\n",
       " ['Prazo máximo para requerer bolsas no ensino superior alargado para 24 de junho https://bit.ly/35lVvav #Covid-19 #EnsinoSuperior'],\n",
       " ['NEW COLUMN: Who Invited The World To Infect America? Who outsourced the very stuff of life to #China? Who replaced American with Chinese labor? American political and corporate elites: https://www.wnd.com/2020/04/invited-world-infect-america/ #COVID'],\n",
       " ['This ones a no-brainer ; we should ALL be able to agree on these to #PreventPandemics like #covid-19 in the future; Please join https://preventpandemics.org/ thx @janvert @PeterDaszak'],\n",
       " ['Tras el #COVID, el pequeño negocio al que mi má le alquilaba, prácticamente quebró. No tiene ingresos, pero aún así ella decidió no cobrar. Ayer el inquilino - con las medidas de seguridad - le trajo el mercado de 2 semanas. Mi madre siempre dice que lo bueno que uno da, regresa'],\n",
       " ['#CoronaVirus- Emergency Hygiene Supplies to Communities in #Haiti #Covid19 #Covid-19 #stcharlesfunds #Monsterfunder Please #Donate Today to my #4giving #PLZ RT! Click Below'],\n",
       " [\"It's a three phase plan. In Phase 1 : gatherings will be limited to 10 or fewer people who remain six feet apart. #coronavirus #Covid-19 #Kansas\"],\n",
       " ['#SNTEsolidario A Doctor@s, Enfermer@s, Camilleros y demás personal salud de las clínicas y hospitales, Todo nuestro reconocimiento por su incansable lucha contra el #COVID-19 #SNTEsalud #30Abril #DíadelNiño #QuédateEnCasa #Chiapas #SomosSnte7 '],\n",
       " ['Ramazan Kareem ka first jumma tul mubarik hai Allah se dua kijiye Allah hm sb pe rehmat kre or hmen #covid-19 se apni amaan m rkhay ameen #JummaMubarak'],\n",
       " ['Estoy muy encabronado. La muerte se ha llevado a uno de mis cantantes del catálogo TOP. Maldito #covid'],\n",
       " ['アメブロを更新しました。 『コロナ斬り#14（２コマ漫画）』 #コロナウイルス #COVID-19 '],\n",
       " [\"je l'adore celle la #feq #covid \"],\n",
       " ['#SNTEsolidario A Doctor@s, Enfermer@s, Camilleros y demás personal salud de las clínicas y hospitales, Todo nuestro reconocimiento por su incansable lucha contra el #COVID-19 #SNTEsalud #30Abril #DíadelNiño #QuédateEnCasa #Chiapas #SomosSnte7 '],\n",
       " ['Maybe we can get lucky & someone young that can balance liberty with being innovative shows up at the #dnc convention to challenge #gropinggrandpabiden. Or both #trump &amp; #biden get #covid &amp; have an awakening like @BorisJohnson. I wld bet on the 1st option. We are not that lucky.'],\n",
       " ['Mortality Rate Low But Lockdowns Continue - Famine And Economic Depression Looming https://youtu.be/jE5sPSGmS6I #COVID #COVID19 #coronavirus #CoronavirusUSA'],\n",
       " ['40 Do you need to up your #socialmedia content because of the #COVID-19 #pandemic? Read my #blogpost to find out: http://ow.ly/sii130qvzar #amwriting #writingcommunity #writersnetwork #storyteller #writers'],\n",
       " [\"Just dropping in to say You're all in this together. #COVID__19 #COVID #Corvid19 #6ftisnotenough\"],\n",
       " ['#Entrevista | \"Son pocas las personas que se atreven a decir que la causa de muerte de su familiar fue por coronavirus\", señala Marco Antonio Tonito, venezolanos que entierra a víctimas de #COVID-19 en #Chile'],\n",
       " ['Holland tunnel to NYC 8am on a workday. #covid-19 https://www.instagram.com/p/B_n8f0knCHE/?igshid=b4aoceu6fe91'],\n",
       " ['Reprise partielle des cours: »Il faut sécuriser les élèves et les enseignants par les moyens nécessaires », SELS #covid-19 @Senego'],\n",
       " ['$TNXP COVID-19 The World Health Organization has published a draft of the current landscape of COVID-19 candidate vaccines in development, including Tonix’s collaboration with Southern Research. Read more here: http://who.int/who-documents-… $TNXP #COVID @wsj https://vac-lshtm.shinyapps.io/ncov_vaccine_landscape/'],\n",
       " ['Can #Anglicare #Newmarch #agedcare residents have CHOICE when it comes to closing down their facility for a deep #covid clean? A: Hotel rooms like #RubyPrincess passengers B: Other facilities like #BurnieHospital patients C: Nepean for 24 hour medical care @albomp @jodimckaymp'],\n",
       " ['This isn’t true. I know someone that had to fight to get #covid on the death certificate even though that was the reason because of the “numbers”. '],\n",
       " [' #coronavirus Una verdadera maravilla, lo recomiendo. #covid '],\n",
       " ['Yes Sir, there\\'s no alternative, it is written that \"The Gates of hell shall not prevail\". Down with the #COVID -19'],\n",
       " ['HOW TO MAKE A FACE SHIELD WITH A PLASTIC SODA BOTTLE AND GLASSES https://youtu.be/v8xuc5oxYCE vía #lifehack #COVID-19 #faceshield #DIY'],\n",
       " ['My kids have watched TV for the last four hours in a row… And I don’t care #COVID-19 #Homeschool #IDon’tCare'],\n",
       " ['Let #Africa into the #market for #COVID-19 diagnostics https://www.nature.com/articles/d41586-020-01265-0 #africacdc'],\n",
       " ['Oh #viruskorona oh #covid-19 oh #coronavirus'],\n",
       " ['#Covid-19 #Coronavirus #Pulse #Measurements What’s a Pulse Oximeter, and Do I Really Need One at Home?'],\n",
       " [\"#MichiganProtest #COVID__19 Smith: The Crisis Won't Stop Until The Globalists Are Removed From Power! When #COVID doesn't scare people anymore, all the elites have to do is release ANOTHER virus. \"],\n",
       " ['Nouvel épisode disponible. Avec @JonTheProF et Tommy Girard. Bonne écoute! #podcast #histoire #covid #culture https://www.instagram.com/p/B_n8kSZn7uV/?igshid=mj7m9jdvdyyh'],\n",
       " ['It’s #TechMayRathon time! Please join us for some fantastic insights on tech and the response to #COVID-19 '],\n",
       " ['Incase any of you or relatives are in need of hand sanitizers DM me! Or help with a retweet! #LA #handsanitizer #covid #handgel #COVID__19'],\n",
       " [\"This isn't just about deaths *directly from #COVID19* but also deaths because of all the necessary healthcare that people are forgoing because of #COVID. And it's heartbreaking. \"],\n",
       " ['$50M class action lawsuit filed against Ont. long-term care provider over handling of COVID-19 | CTV News #ltc #covid '],\n",
       " ['“抗寄生虫薬「イベルメクチン」新型コロナに効果か 米で報告 大村智さん発見の細菌由来 - 毎日新聞” https://htn.to/eGZkfodX1A #あとで読む #新型コロナ #コロナ #COVID-19 #医療 #医学 #社会 #news #メモ #*あとで読む'],\n",
       " [\"We have developed the 'Staying Connected' resource to assist people in our community to stay connected in this time of physical distancing. To view this great resource, please visit the following link - http://www.chpcp.org/wp-content/uploads/2014/11/CHPCP-Staying-Connected-Resource-v1.pd #vicpcp #COVID \"],\n",
       " ['#2020 #covid-19 #pandemic #neverendingmonths @New Rochelle, New York https://www.instagram.com/p/B_n8fXLnDoy/?igshid=dj5wc0zjniwj'],\n",
       " [\"'Second-week c#rash' is time of peril for some #covid-19 #patients - #coronavirus #covid19 #pandemic #lockdown #health #news\"],\n",
       " [' Ella es Verónica Maldonado está al frente del taller Dramaturgia en línea 4.ª emisión. Recuerda que este taller es GRATIS en apoyo a la emergencia por el #COVID-19 Inscríbete hasta el 18 de mayo. https://bit.ly/3clBlzH #QuédateEnCasaYa'],\n",
       " ['Protected Group Immunity, Not a #Vaccine, is the Way to Stop the #COVID-19 #Pandemic '],\n",
       " ['Me and the wife getting ready to have a zoom call with friends! #zoom #twitch #streamer #COVID '],\n",
       " ['Care provided virtually in almost all #IBD visits now. Pre #COVID-19 it was about 10-15%. Digital healthcare transformation in the era of #COVID-19 @gilkaplan @ericbenchimol @vwaimeih @GeoffCNguyen and Dr. Ted Xenodemetropoulos #webinar '],\n",
       " ['#Covid-19 #ensemblenousvaincrons'],\n",
       " ['朝ぼやき159枠目 コロナになんて感染したくてなったわけじゃないのに どうして安易に謝るの？というお話(;´･ω･`) 周囲に気を使って真の感染者が隠してしまう方が厄介だろうにと #COVID-19 #日本人の謝罪癖 https://youtu.be/3bCIEXb4Ztg @YouTubeさんから'],\n",
       " ['A desert island does not excuse you from abusing animals. If you are not vegan then you continually pay for animals to be raped, mutilated, gassed, kidnapped, blended and stabbed to death for nothing but a few minutes of taste pleasure... and vegans are extreme #vegan #COVID '],\n",
       " ['To fight #COVID-19 we need to work together to protect health systems, fund vaccines and save lives. @emmanuelmacron @elysee please release €€€ from to @WHO @gavi and @CEPIvaccines to help beat this pandemic as soon as possible.'],\n",
       " ['Ehhh, no! La crisis ya estaba ANTES del #covid-19 con el mismo capitán que nos llevó de frente a la tormenta'],\n",
       " ['Coronavirus: Airlines, give customers refunds, not vouchers! Consumers need their money during this time of financial hardship! #COVID-19AirlineRefunds → Sign @CRAdvocacy petition.'],\n",
       " ['Ahí se documentó el fallecimiento de una PPL de 22 años, varón, hipertenso y con peso aproximado de 120 k; el deceso ocurrió ayer, en el hospital al que fue trasladado con diagnóstico de #COVID-19. Se corroboraron protocolos de salubridad y aislamiento preventivo de varias PPL. '],\n",
       " ['What goes through your mind during that minute when you have nothing to do but ride the elevator with your intubated #COVID19 patient? #covid #Nurses #respiratorytherapists #CriticalCare #stroke'],\n",
       " ['MP investiga compra de R$550 milhões em respiradores da China feita por Doria https://gabge.com.br/noticias/1329/mp-investiga-compra-de-r-550-milh-es-em-respiradores-da-china-feita-por-doria #coronavírus #Política #Últimas #Brasil #China #Covid-19 #Destaque #JoãoDoria #S�'],\n",
       " ['#coronavirus #covid-19 #COVID19 #COVID19mx #cuernavaca #morelos #mexico'],\n",
       " [\"Cuidemos la vida y a nuestros seres amados, respeta las señales de 'Distancia segura' para evitar la propagación del #COVID-19. Continuaremos implementando esta medida en toda la ciudad. De ti depende que podamos superar esta pandemia. #DisciplinaParaVolver\"],\n",
       " ['A credit score for your #COVID-19 risk? @USC gets federal funds to make a contact tracing mobile app for students: https://dot.la/coronavirus-usc-app-2645887533.html #USC #USCGrad'],\n",
       " ['Yeah well except for salivating about cutting social security for seniors and the 63,000 #Covid-19 deaths on his watch (more like 100,000), the majority of whom are seniors. Yeah except for those factors, trump has been great for seniors. '],\n",
       " ['When the U.S. learned Black patients were a disproportionate no. of #COVID-19 deaths, the narrative switched to discussing \"underlying health conditions.\" That\\'s not it, fam. I\\'ve said before, #coronavirus was never the \"great equalizer.\" Here\\'s the real.'],\n",
       " ['It’s time for the world to join together in a global effort to beat #COVID-19. @sebastiankurz will Austria step up alongside other global leaders to support @CEPIvaccines and @gavi in their work to defeat deadly global pandemics? #VaccinesWork #DefeatDiseaseTogether'],\n",
       " ['If we have so many cases of #COVID positive tests around the country. Why is so difficult to detect #COVID infection in #covidtoes ? @MedDermSoc @lindyfox1'],\n",
       " ['Day 45... Will work for pretzels *and by work he means sitting still long enough for me to take a cute photo of him. #bandit #malshi #shihtzu #maltese #dogsofinstagram #covid #covid19 #corona #coronavirus #stayhome… https://www.instagram.com/p/B_n8SjRnRZc/?igshid=jmdtkvvkxxs9'],\n",
       " ['San Pedro (Provincia Melipilla) Actualiza casos de #Covid-19 en la comuna. Llegan a 12 '],\n",
       " ['#Coronavirus El autocine reabre sus puertas en Madrid #covid '],\n",
       " ['How the Coronavirus Hijacks Your Cells Read More: http://tinyurl.com/y6vvsg6a #Bloomberg #coronavirus #covid-19 #hongkong #News #Science #vaccine'],\n",
       " ['Dr. Vladimir Zelenko Explains Effective Coronavirus Treatment Read More: http://tinyurl.com/yb5sg4jd #adamcarollapodcast #adamcarollashow #coronavirus #covid #cure #Dr.VladimirZelenko #quarantine2020 #viruscure #VOVID19'],\n",
       " ['Te contamos las últimas noticias sobre el Coronavirus. https://www.luxmoments.es/2020-03-covid-19 #franjashorarias #COVID19 #covid19ESP #COVIDー19 #COVID #coronavirus #magazineonline #luxmoments #normalidad #EstadoDeAlarma'],\n",
       " ['Rwanda Lifts Lockdown, Sets New Measures Against #COVID-19 '],\n",
       " ['Watch Empire Files ( @Empirefiles) LIVE - The Politics of #COVID: Trump, The Democrats &amp; Grassroots Resistance. https://youtu.be/8lKhVoIN17w #EmpireFiles'],\n",
       " ['Trump is blaming Obama for leaving him with “broken tests” for a virus that didn’t exist. Yes, really. But that won’t matter to the #maga #kaga disciples. It’s #covid19 because it was discovered in 2019 right \\u2066@KellyannePolls\\u2069 #covid #coronavirus'],\n",
       " ['Deje de creer en héroes con traje, incie a creer con locura en mi. Honro a quien fuí, pues me mostró mi ser. #memorias de #covid'],\n",
       " ['How people protest and plead their demands in different parts of the world.. #Michiganterrorists #Michigan #Armed #Protest #Covid #Coronavirus #coronavirususa #covid19 #democracy #freedom #civilrights #barbaric #caprotest #californiaprotest #IslamicRepublicOfBBC'],\n",
       " [\"We've had a ton of clients and prospects asking us about selling on #Amazon. Many businesses are looking to replace lost revenue due to #Covid-19. Amazon is by far the most-popular online retail platform, but is it right for your business? #ecommerce https://bit.ly/3cLNRZc .\"],\n",
       " ['EN VENEZUELA - Ascendió a 333 el número de contagios por #COVID-19 &gt;&gt; https://bit.ly/Casos333VE (+DETALLES)'],\n",
       " ['#COVID-19 sent economies swooning, toppling CPIs. Rebounds in stock &amp; bond #markets on policy #stimulus don’t mean market #volatility is over, or that #inflation is dead http://ow.ly/qwWk50zs61M https://www.thornburg.com/insight-commentary/how-covid-19s-deflation-shock-may-spawn-inflation-outbreak/'],\n",
       " ['Galería Stickers #Apumanque #sename #leysticker #fuerapiñera #covid-19 #cuarentena #niuunamenos #lasparedeshablan'],\n",
       " ['Provea: El hemisferio debe defender derechos de los venezolanos en medio de #COVID-19 '],\n",
       " ['Detienen a mujer en #Oaxaca por incumplir medidas contra #Covid-19 https://bit.ly/2VSbl9J'],\n",
       " ['Ways to Stay Productive When Working from Home #Sales #Covid-19 #WorkFromHome https://hubs.ly/H0pXJSS0'],\n",
       " ['The global #COVID-19 emergency has disrupted the lives of millions of people, including #students and #teachers https://hubs.ly/H0pwH1s0 #EdTech #eLearning #EdChat'],\n",
       " ['#COVID-19 Update From Smiota '],\n",
       " ['Moving to Dr. Joanna Harp from @WeillCornell to discuss #dermatology and #COVID19 in the inpatients who are unfortunately afflicted with a much more severe case of #COVID! #COVIDDerm'],\n",
       " ['#Nova Zelândia anuncia fim da transmissão local comunitária de #covid-19 - Clique para ver ☛ '],\n",
       " [\"Take a deep breath. It's just a #bad day not a #bad life. #Covid-19\"],\n",
       " ['\"Hay más feminicidios que muertes por #COVID\". ¿Dónde está @ISDEMU? ¿ @MelaraRaul @FGR_SV ?'],\n",
       " [\"Hey remember 2019 when Philly's city government passed a law requiring businesses to take cash? How many workers are being COVID-19 infected by being forced to handle the filthy dollars people dig out of their dirty pockets? https://www.vox.com/the-goods/2019/3/8/18256601/cashless-stores-philadelphia-law-amazon-go-sweetgreen #tbt #COVID #philly #virus\"],\n",
       " ['CSR in troubled and challenging times. Can business leaders afford to look the other way #CSR #business #businessleaders #covid #lockdown #conscience Corporate Social Responsibility and Role of Business Leaders in Times of Coronavirus - https://go.shr.lc/2YnPvfB via @shareaholic'],\n",
       " ['Hotelaria não vai poder abrir com todos os serviços https://bit.ly/3aYJRDG #AntónioCosta #Covid-19 #hotelaria'],\n",
       " ['Bu @kilicdarogluk nerede bileniniz var mı? Bir yerde çok baş olursa, başsız kalinirmis. #CananKaftancıoğlu #chp nin sözcüsü oldu da bizim mi haberimiz yok. Çapı kadar konuştuğu icin #covid varken biz #15Temmuz konuşuyoruz. Allah aşkına onune geleni tv ye çıkartmayın. Yıldık.'],\n",
       " ['Mercados de Pátzcuaro abrirán en horarios restringidos y bajo estrictas medidas de control sanitario http://michoacanenconcreto.com/mercados-de-patzcuaro-abriran-en-horarios-restringidos-y-bajo-estrictas-medidas-de-control-sanitario/ #Pátzcuaro #Covid'],\n",
       " ['El Instituto Mexicano del Seguro Social dio a conocer el nacimiento del segundo “bebe milagro” en Coahuila, cuya madre es una paciente con #COVID-19. '],\n",
       " ['Researchers at #Tamuq addressing #Covid-19 challenges in Qatar '],\n",
       " ['ABI spin-out company @Soulmachines has developed an AI helper to support Government and Industry in managing the information flow related to COVID-19. https://www.soulmachines.com/news/2020/04/14/meet-bella/?mc_cid=f6c957f33d&amp;mc_eid=9c7326cfec #helpbeatcovid #covid #covid19 #bioengineering #betterinnz #stayhome #careerchangeABI #researchforlife'],\n",
       " ['√ Noticias del día #ACTUALIZADAS! √ ANUNCIOS DE PREVENCIÓN!! #QuedateEnCasaYoMeQuedoEnCasa Escuchanos por la App Busca Radio Kaos en #PlayStore Y en la Web! Estamos Estes Donde Estes!!! K•A•O•S 94.3 ENTRE TODOS COMBATIMOS EL #COVID-19 '],\n",
       " ['Hearing that even hospitals that had high censuses of younger #COVID patients are emptying as patients test negative upon recheck abd are rather eagerly looking tfor new ones; as always, firsthand reports are good but hard evidence is better.'],\n",
       " ['#COVID-19 Fails to Dent Aggressive Growth in Cloud Spending; Half of the Q1 Market Belongs to #Amazon &amp; #Microsoft https://www.srgresearch.com/articles/covid-19-fails-dent-aggressive-growth-cloud-spending-half-q1-market-belongs-amazon-microsoft'],\n",
       " ['.@khamenei_ir should take measures to protect the health of all prisoners amid grave fears over the spread of #COVID-19 in Iran’s prisons and consider releasing pre-trial detainees and those who are at greater risk from #Coronavirus'],\n",
       " ['\"Let\\'s not lay a guilt trip on people who are going through a traumatic experience that none of us have experienced before and none of us were prepared for.\" An interesting read from @Upworthy on the pressure of productivity during #covid. '],\n",
       " ['As if old people weren’t already resentful of the youth #COVID__19 #COVID'],\n",
       " ['#yorktown #yhs #yorktownhighschool #club #april #aprilissexualassaultawarenessmonth #linkinbio #sexualassaultawarenessmonth #highschoolclub #sexualassault #sasa #advocacy #students #youth #studentsagainstsexualassault #covid19 #support #resources #help #covid #corona #coronavirus'],\n",
       " ['Tinol’s Coating Technology is used to coat advanced patients & health care providers’ masks for RAFIC HARIRI UNIVERSITY HOSPITAL in its fight against COVID-19. An initiative by Mr. @PaulAbiNasr and Dr. Henry Fakhoury. #Tinol #paints #healthcare #covid-19 #madeinlebanon'],\n",
       " ['#ZakatSavesLives #COVID-19 '],\n",
       " [\"Cuidemos la vida y a nuestros seres amados, respeta las señales de 'Distancia segura' para evitar la propagación del #COVID-19. Continuaremos implementando esta medida en toda la ciudad. De ti depende que podamos superar esta pandemia. #DisciplinaParaVolver\"],\n",
       " ['Av. Abel Romeo Castillo 212 y Juan Tanca Marengo. Guayaquil- Ecuador Sigue a @nefropedvelasco #Nefrologa #riñones #trasplante #niños #draJennyVelasco #medicosecuador #renal #Nefrologapediatra #guayaquil #hipertensionarterial #pandemia #nefrologoonline #covid #cuarentena'],\n",
       " ['Apoio extraordinário para a pesca totaliza cerca de 3 milhões https://bit.ly/3f6QLtI #Covid-19 #Pesca'],\n",
       " [\"Cuidemos la vida y a nuestros seres amados, respeta las señales de 'Distancia segura' para evitar la propagación del #COVID-19. Continuaremos implementando esta medida en toda la ciudad. De ti depende que podamos superar esta pandemia. #DisciplinaParaVolver\"],\n",
       " ['https://vimeo.com/412041705 = NO Unnecessary #Death needed ! there is a Cheep #Cure !! Tell all your Friends Family + Strangers !!.. about Dr Kalcker #ChlorineDioxide = WORKS fast !! = 2 Days = Safe Effective #CURE to #Covid is Here now !! '],\n",
       " [\"Cuidemos la vida y a nuestros seres amados, respeta las señales de 'Distancia segura' para evitar la propagación del #COVID-19. Continuaremos implementando esta medida en toda la ciudad. De ti depende que podamos superar esta pandemia. #DisciplinaParaVolver\"],\n",
       " ['#PerrosYGatos no son para consumo humano ! #ComidaChina México #StopYulin #Covid - ¡Firmá la petición! http://chng.it/8g69n8wg vía @ChangeorgLatino'],\n",
       " ['#EnDirecto Mesa de trabajo Guía de Aforo #DistanciamientoSocial #COVID-19 #CAP Regional Lima https://www.facebook.com/caplimaperu/videos/550870938956444/ vía @FacebookWatch'],\n",
       " [\"Cuidemos la vida y a nuestros seres amados, respeta las señales de 'Distancia segura' para evitar la propagación del #COVID-19. Continuaremos implementando esta medida en toda la ciudad. De ti depende que podamos superar esta pandemia. #DisciplinaParaVolver\"],\n",
       " [\"“‘Historically, just about 6% of vaccine candidates end up making it to the market. So, it's a very difficult process. Things that look good in the lab, when they start human testing, can change dramatically,’ Posner said.” #covid #vaccines #bigpharma\"],\n",
       " [' Plan descalabro #Coronavirus: Franja especial para las personas dependientes y de +70 años. Los que necesiten salir acompañados de un asistente, por sus circunstancias de dependencia, podrán hacerlo de 10h a 12h y de 19h a 20h #covid '],\n",
       " ['With their seasonal work ended and their savings depleted, many of the farm workers had no choice but to sleep on the streets of Santiago. #Covid #Catholic'],\n",
       " ['And we have raised more money than almost anywhere else in the state too: “Despite efforts to help people who have lost work due to #COVID-19, researchers say not enough has been done for renters in areas that already had a housing crisis — like San Jose.” '],\n",
       " ['#Coronavirus #Covid 19 opr. DISWIT, WIT, WIT, WIT N.C with Nobetu, Nanigi'],\n",
       " [\"Americans will NEVER accept Chinese Communist tyrannical rule of low which destroys all constitutional freedoms. Corrupt political class beware! Democrats made NY the world's worst #COVID sh*thole, don't let them destroy the whole country! \"],\n",
       " ['#LoVisteEnTLFNoticias En medio de la polémica por los presos que podrían ser liberados por el riesgo de contagiarse de #COVID-19. Esta es la lista de los que NO será liberados. '],\n",
       " ['Bayburt Memnune Evsen Huzurevi’nde yaşanan ve 35 kişide tespit edilen koronavirüs hastalığı sonrası vaka sayisi 60’ın üzerine çıkmış oldu. #bayburt #koronavirues #koronavirus #koronaturkiye #koronawirus #Covid '],\n",
       " ['https://vimeo.com/412041705 = NO Unnecessary Death !!! there is a Cheep #Cure = tell all your Friends Family and Strangers !!.. about Dr Kalcker #ChlorineDioxide = WORKS fast !! = Safe Effective #CURE to #Covid is Here now !! '],\n",
       " ['Pagamentos do ‘lay-off’ até 15 de maio para processos entrados até 30 de abril https://bit.ly/3bTiSKV #Covid-19 #Emprego #Empresas'],\n",
       " ['Worth the full read -- but TRULY, friends, as this amazing physician implores us, we must VOTE for leaders who wash their hands + support science (at a bare bare minimum)! #youthvote #mepolitics #COVID'],\n",
       " ['Presidente de #InderCuba Osvaldo Vento, en la Mesa Redonda: Como parte de la batalla contra la #Covid-19 se mantiene el flujo de información establecido a partir de un parte diario donde se reflejan las principales incidencias en la subordinación local y nacional. ']]"
      ]
     },
     "execution_count": 13,
     "metadata": {},
     "output_type": "execute_result"
    }
   ],
   "source": [
    "#print texts\n",
    "text_tweets"
   ]
  },
  {
   "cell_type": "code",
   "execution_count": 14,
   "metadata": {},
   "outputs": [
    {
     "name": "stdout",
     "output_type": "stream",
     "text": [
      "['i', 'me', 'my', 'myself', 'we', 'our', 'ours', 'ourselves', 'you', \"you're\", \"you've\", \"you'll\", \"you'd\", 'your', 'yours', 'yourself', 'yourselves', 'he', 'him', 'his', 'himself', 'she', \"she's\", 'her', 'hers', 'herself', 'it', \"it's\", 'its', 'itself', 'they', 'them', 'their', 'theirs', 'themselves', 'what', 'which', 'who', 'whom', 'this', 'that', \"that'll\", 'these', 'those', 'am', 'is', 'are', 'was', 'were', 'be', 'been', 'being', 'have', 'has', 'had', 'having', 'do', 'does', 'did', 'doing', 'a', 'an', 'the', 'and', 'but', 'if', 'or', 'because', 'as', 'until', 'while', 'of', 'at', 'by', 'for', 'with', 'about', 'against', 'between', 'into', 'through', 'during', 'before', 'after', 'above', 'below', 'to', 'from', 'up', 'down', 'in', 'out', 'on', 'off', 'over', 'under', 'again', 'further', 'then', 'once', 'here', 'there', 'when', 'where', 'why', 'how', 'all', 'any', 'both', 'each', 'few', 'more', 'most', 'other', 'some', 'such', 'no', 'nor', 'not', 'only', 'own', 'same', 'so', 'than', 'too', 'very', 's', 't', 'can', 'will', 'just', 'don', \"don't\", 'should', \"should've\", 'now', 'd', 'll', 'm', 'o', 're', 've', 'y', 'ain', 'aren', \"aren't\", 'couldn', \"couldn't\", 'didn', \"didn't\", 'doesn', \"doesn't\", 'hadn', \"hadn't\", 'hasn', \"hasn't\", 'haven', \"haven't\", 'isn', \"isn't\", 'ma', 'mightn', \"mightn't\", 'mustn', \"mustn't\", 'needn', \"needn't\", 'shan', \"shan't\", 'shouldn', \"shouldn't\", 'wasn', \"wasn't\", 'weren', \"weren't\", 'won', \"won't\", 'wouldn', \"wouldn't\"]\n"
     ]
    }
   ],
   "source": [
    "from nltk.corpus import stopwords\n",
    "stop_words = stopwords.words('english')\n",
    "print(stop_words)"
   ]
  },
  {
   "cell_type": "code",
   "execution_count": 15,
   "metadata": {},
   "outputs": [],
   "source": [
    "final_words = [word for word in tokenized_words if word not in stop_words]"
   ]
  },
  {
   "cell_type": "code",
   "execution_count": 16,
   "metadata": {},
   "outputs": [
    {
     "name": "stdout",
     "output_type": "stream",
     "text": [
      "Counter({' sad': 4, ' happy': 2, ' attached': 1, ' ecstatic': 1, ' powerless': 1, ' lost': 1, ' attracted': 1, ' hated': 1, ' angry': 1})\n"
     ]
    }
   ],
   "source": [
    "#Get emotions text\n",
    "emotion_list = []\n",
    "with open('emotions.txt', 'r') as file:\n",
    "    for line in file:\n",
    "        clear_line = line.replace('\\n','').replace(',', '').replace(\"'\", '').strip()\n",
    "        word, emotion = clear_line.split(':')\n",
    "        if word in final_words:\n",
    "            emotion_list.append(emotion)\n",
    "            \n",
    "w = Counter(emotion_list)\n",
    "print(w)"
   ]
  },
  {
   "cell_type": "code",
   "execution_count": 17,
   "metadata": {},
   "outputs": [
    {
     "data": {
      "image/png": "[encoded data removed]",
      "text/plain": [
       "<Figure size 432x288 with 1 Axes>"
      ]
     },
     "metadata": {
      "needs_background": "light"
     },
     "output_type": "display_data"
    }
   ],
   "source": [
    "fig, ax1 = plt.subplots()\n",
    "ax1.bar(w.keys(), w.values())\n",
    "fig.autofmt_xdate()\n",
    "plt.savefig('graph.png')\n",
    "plt.show()"
   ]
  },
  {
   "cell_type": "code",
   "execution_count": null,
   "metadata": {},
   "outputs": [],
   "source": []
  },
  {
   "cell_type": "code",
   "execution_count": null,
   "metadata": {},
   "outputs": [],
   "source": []
  },
  {
   "cell_type": "code",
   "execution_count": null,
   "metadata": {},
   "outputs": [],
   "source": []
  }
 ],
 "metadata": {
  "kernelspec": {
   "display_name": "Python 3",
   "language": "python",
   "name": "python3"
  },
  "language_info": {
   "codemirror_mode": {
    "name": "ipython",
    "version": 3
   },
   "file_extension": ".py",
   "mimetype": "text/x-python",
   "name": "python",
   "nbconvert_exporter": "python",
   "pygments_lexer": "ipython3",
   "version": "3.7.6"
  }
 },
 "nbformat": 4,
 "nbformat_minor": 4
}
